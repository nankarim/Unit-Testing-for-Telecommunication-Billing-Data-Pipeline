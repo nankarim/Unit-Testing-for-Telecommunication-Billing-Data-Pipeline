{
  "nbformat": 4,
  "nbformat_minor": 0,
  "metadata": {
    "colab": {
      "provenance": []
    },
    "kernelspec": {
      "name": "python3",
      "display_name": "Python 3"
    },
    "language_info": {
      "name": "python"
    }
  },
  "cells": [
    {
      "cell_type": "code",
      "execution_count": 1,
      "metadata": {
        "id": "7CnUDRWg2fhm"
      },
      "outputs": [],
      "source": [
        "import pandas as pd\n",
        "import unittest"
      ]
    },
    {
      "cell_type": "code",
      "source": [
        "def data_extraction(file_path):\n",
        "    data = pd.read_csv(file_path)\n",
        "    return data"
      ],
      "metadata": {
        "id": "WtTTpuMe21Pp"
      },
      "execution_count": 6,
      "outputs": []
    },
    {
      "cell_type": "code",
      "source": [
        "def data_transformation(data):\n",
        "    data = data.drop_duplicates()\n",
        "    data['billing_amount'] = data['billing_amount'].str.replace('$', '').astype(float)\n",
        "    data['total_charges'] = data['billing_amount'] + data['tax_amount']\n",
        "    return data"
      ],
      "metadata": {
        "id": "qd9jhbPW5lZ_"
      },
      "execution_count": 7,
      "outputs": []
    },
    {
      "cell_type": "code",
      "source": [
        "def data_loading(data, output_file):\n",
        "    data.to_csv(output_file, index=False)"
      ],
      "metadata": {
        "id": "lnyiZsaw5rQX"
      },
      "execution_count": 8,
      "outputs": []
    },
    {
      "cell_type": "code",
      "source": [
        "# Your test data file path\n",
        "TEST_DATA_FILE = '/content/billing_data.csv'\n",
        "OUTPUT_FILE = 'output_file.csv'\n",
        "\n",
        "class TestDataPipeline(unittest.TestCase):\n",
        "\n",
        "    def test_data_extraction(self):\n",
        "        # Test case 1: Check if data_extraction function returns a DataFrame\n",
        "        df = data_extraction(TEST_DATA_FILE)\n",
        "        self.assertIsInstance(df, pd.DataFrame, \"data_extraction didn't return a DataFrame\")\n",
        "\n",
        "        # Test case 2: Check if the DataFrame has the expected columns\n",
        "        expected_columns = ['customer_id', 'billing_amount', 'tax_amount']\n",
        "        self.assertListEqual(df.columns.tolist(), expected_columns, \"Unexpected columns in the extracted DataFrame\")\n",
        "\n",
        "        # Test case 3: Check if the DataFrame is not empty\n",
        "        self.assertFalse(df.empty, \"Extracted DataFrame is empty\")\n",
        "\n",
        "    def test_data_transformation(self):\n",
        "        # Test case 1: Check if data_transformation function returns a DataFrame\n",
        "        df = data_extraction(TEST_DATA_FILE)\n",
        "        transformed_df = data_transformation(df)\n",
        "        self.assertIsInstance(transformed_df, pd.DataFrame, \"data_transformation didn't return a DataFrame\")\n",
        "\n",
        "        # Test case 2: Check if the transformed DataFrame has the expected columns and data types\n",
        "        expected_columns = ['customer_id', 'billing_amount', 'tax_amount', 'total_charges']\n",
        "        self.assertListEqual(transformed_df.columns.tolist(), expected_columns, \"Unexpected columns in the transformed DataFrame\")\n",
        "        self.assertTrue(all(transformed_df['total_charges'].dtype == 'float'), \"Total charges column should be of float type\")\n",
        "\n",
        "        # Test case 3: Check if the transformed DataFrame is not empty\n",
        "        self.assertFalse(transformed_df.empty, \"Transformed DataFrame is empty\")\n",
        "    def test_data_loading(self):\n",
        "        # Test case 1: Check if data_loading function successfully saves the DataFrame to a CSV file\n",
        "        df = data_extraction(TEST_DATA_FILE)\n",
        "        transformed_df = data_transformation(df)\n",
        "        data_loading(transformed_df, OUTPUT_FILE)\n",
        "        self.assertTrue(os.path.exists(OUTPUT_FILE), \"Output file not found after data_loading\")\n",
        "\n",
        "        # Test case 2: Check if the loaded CSV file contains the same data as the DataFrame\n",
        "        loaded_df = pd.read_csv(OUTPUT_FILE)\n",
        "        self.assertTrue(transformed_df.equals(loaded_df), \"Loaded DataFrame is different from the original DataFrame\")\n",
        "\n",
        "        # Test case 3: Check if the loaded CSV file is not empty\n",
        "        self.assertFalse(loaded_df.empty, \"Loaded DataFrame is empty\")\n",
        "\n",
        "if __name__ == '__main__':\n",
        "    unittest.main()\n",
        "\n",
        "\n",
        "\n",
        "\n",
        "\n",
        "\n",
        "\n",
        "\n",
        "\n",
        "\n"
      ],
      "metadata": {
        "id": "mfEicsNa58PI"
      },
      "execution_count": 25,
      "outputs": []
    }
  ]
}